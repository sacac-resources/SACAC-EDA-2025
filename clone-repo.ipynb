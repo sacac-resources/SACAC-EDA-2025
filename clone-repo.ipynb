{
 "cells": [
  {
   "cell_type": "markdown",
   "metadata": {
    "id": "82N00EKkWFBa"
   },
   "source": [
    "# Cloning the GitHub repository\n",
    "This notebook will clone the GitHub repository to your own Google Drive. The repository will be cloned to `folderName`, which is set to \"ColabNotebooks\" by default, but you can change it by changing the `folderName` variable. Note that `git clone` will create a subfolder called \"SACAC-EDA-2024\" automatically, so in the example below, the repo will be cloned to `/content/drive/MyDrive/ColabNotebooks/SACAC-EDA-2024`.\n",
    "\n",
    "Just run the code by clicking in the cell and pressing `ctrl+enter`, or click the \"play\" button near the top left corner of the cell. You will need to grant permission to access your Google Drive."
   ]
  },
  {
   "cell_type": "code",
   "execution_count": null,
   "metadata": {
    "colab": {
     "base_uri": "https://localhost:8080/"
    },
    "executionInfo": {
     "elapsed": 5104,
     "status": "ok",
     "timestamp": 1710880597764,
     "user": {
      "displayName": "Tobi Louw",
      "userId": "12570803192121562615"
     },
     "user_tz": -120
    },
    "id": "vtYeE0LlV5Jh",
    "outputId": "20ece2c4-6b9e-4624-e6df-950f45ebb7dc"
   },
   "outputs": [],
   "source": [
    "from google.colab import drive\n",
    "drive.mount('/content/drive')\n",
    "\n",
    "folderName = 'ColabNotebooks'\n",
    "\n",
    "%cd /content/drive/MyDrive/\n",
    "%mkdir $folderName\n",
    "%cd $folderName\n",
    "!git clone https://github.com/sacac-resources/SACAC-EDA-2025.git"
   ]
  },
  {
   "cell_type": "markdown",
   "metadata": {
    "id": "DbesCMi-a7PA"
   },
   "source": [
    "# Updating the repository\n",
    "If you have previously cloned the repository into your Google Drive, but you'd like to update it, you can do so using a pull request"
   ]
  },
  {
   "cell_type": "code",
   "execution_count": null,
   "metadata": {},
   "outputs": [],
   "source": [
    "from google.colab import drive\n",
    "drive.mount('/content/drive')\n",
    "\n",
    "folderName = 'ColabNotebooks'\n",
    "\n",
    "%cd /content/drive/MyDrive/\n",
    "%cd $folderName\n",
    "%cd SACAC-EDA-2025\n",
    "!git pull"
   ]
  }
 ],
 "metadata": {
  "colab": {
   "authorship_tag": "ABX9TyNXUbUN4TUjWiggkmUV5JsJ",
   "provenance": []
  },
  "kernelspec": {
   "display_name": "Python 3",
   "name": "python3"
  },
  "language_info": {
   "name": "python",
   "version": "3.11.7"
  }
 },
 "nbformat": 4,
 "nbformat_minor": 0
}
